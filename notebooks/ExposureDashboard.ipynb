{
 "cells": [
  {
   "cell_type": "code",
   "execution_count": null,
   "id": "4effa714-1f25-4445-a403-0c9349c37d11",
   "metadata": {
    "extensions": {
     "jupyter_dashboards": {
      "activeView": "grid_default",
      "views": {
       "grid_default": {
        "col": null,
        "height": 2,
        "hidden": true,
        "row": null,
        "width": 2
       }
      }
     }
    },
    "tags": []
   },
   "outputs": [],
   "source": [
    "%matplotlib widget\n",
    "import json\n",
    "import os\n",
    "import pandas as pd\n",
    "import numpy as np\n",
    "import scipy as sp\n",
    "import matplotlib.pyplot as plt\n",
    "import ipywidgets as widgets\n",
    "from IPython.display import display\n",
    "import Lib\n",
    "import bqplot\n",
    "from traitlets import Unicode, List, Instance, link, HasTraits\n",
    "from IPython.display import display, clear_output, HTML, Javascript"
   ]
  },
  {
   "cell_type": "code",
   "execution_count": null,
   "id": "58413748-6126-43ee-99e1-57281a0c17ee",
   "metadata": {
    "extensions": {
     "jupyter_dashboards": {
      "activeView": "grid_default",
      "views": {
       "grid_default": {
        "col": null,
        "height": 2,
        "hidden": true,
        "row": null,
        "width": 2
       }
      }
     }
    }
   },
   "outputs": [],
   "source": [
    "path='../monaco-data/output'\n",
    "#fileName='model_values_cube.json'\n",
    "fileName='exposures_cube.json'\n",
    "fullName=path+'/'+fileName\n",
    "cube=Lib.LoadCube(fullName)\n",
    "cashflowsFileName='cashflows.json'\n",
    "fullName=path+'/'+cashflowsFileName\n",
    "f = open(fullName,)\n",
    "cashflows=json.load(f)\n",
    "\n",
    "exerciseFiles = [f for f in os.listdir(path) if os.path.isfile(os.path.join(path, f)) and f.endswith(' (exercise).json')]\n",
    "\n",
    "instruments=cube['time_series_names']\n",
    "\n",
    "idx={}\n",
    "idx['ins']=0\n",
    "idx['scenario']=0"
   ]
  },
  {
   "cell_type": "code",
   "execution_count": null,
   "id": "22d75400-832d-44ca-8347-817af30d29b2",
   "metadata": {
    "extensions": {
     "jupyter_dashboards": {
      "activeView": "grid_default",
      "views": {
       "grid_default": {
        "col": null,
        "height": 2,
        "hidden": true,
        "row": null,
        "width": 2
       }
      }
     }
    }
   },
   "outputs": [],
   "source": [
    "def OnScenario(scenario):\n",
    "    #print('OnScenario: '+str(scenario))\n",
    "    idx['scenario']=scenario\n",
    "    UpdateWidgets()"
   ]
  },
  {
   "cell_type": "code",
   "execution_count": null,
   "id": "cb43134a-5c12-49ab-8e96-9f227011ccc1",
   "metadata": {
    "extensions": {
     "jupyter_dashboards": {
      "activeView": "grid_default",
      "views": {
       "grid_default": {
        "col": null,
        "height": 2,
        "hidden": true,
        "row": null,
        "width": 2
       }
      }
     }
    }
   },
   "outputs": [],
   "source": [
    "def OnSelect(instrument):\n",
    "    #print('OnSelect: '+instrument)\n",
    "    idx['ins']=instruments.index(instrument)\n",
    "    UpdateWidgets()"
   ]
  },
  {
   "cell_type": "code",
   "execution_count": null,
   "id": "8805135e-3a3c-4d30-99a0-08c4832fb531",
   "metadata": {
    "extensions": {
     "jupyter_dashboards": {
      "activeView": "grid_default",
      "views": {
       "grid_default": {
        "col": null,
        "height": 2,
        "hidden": true,
        "row": null,
        "width": 2
       }
      }
     }
    }
   },
   "outputs": [],
   "source": [
    "def UpdateWidgets():\n",
    "    #print('Update widgets: '+str(idx['ins'])+'/'+str(idx['scenario']))\n",
    "    #Diffusion plot\n",
    "    date_start=0\n",
    "    date_end=len(cube['dates'])-1\n",
    "    scenario_start=0\n",
    "    scenario_end=cube['num_scenarios']-1\n",
    "    \n",
    "    data=[]\n",
    "    for s in range(scenario_start,scenario_end+1):\n",
    "        scenario_data=Lib.GetScenarioData(cube,s)\n",
    "        data.append(scenario_data[:,idx['ins']])\n",
    "\n",
    "    lines.x=cube['dates']\n",
    "    lines.y=data\n",
    "    \n",
    "    #Summary table\n",
    "    data=[]\n",
    "    for d in range(date_start,date_end+1):\n",
    "        vec=np.array([])\n",
    "        for s in range(scenario_start,scenario_end+1):\n",
    "            val=Lib.GetValue(cube,d,s,idx['ins'])\n",
    "            vec=np.append(vec,val)\n",
    "        avg=vec.mean()\n",
    "        std=vec.std()\n",
    "        data.append([d,d*0.25,avg,std])\n",
    "\n",
    "    res=pd.DataFrame(data, columns=[\"Date #\", \"Date\", \"Average\", \"Standard deviation\"]).round(2)\n",
    "    table.value = res.to_html(escape=False)\n",
    "    \n",
    "    #PV and cashflows\n",
    "    data=np.array(cashflows[idx['ins']][idx['scenario']])\n",
    "    positive=data[:,1]>0\n",
    "    c=list(map(Map,positive))\n",
    "\n",
    "    scenario_data=Lib.GetScenarioData(cube,idx['scenario'])\n",
    "    pv.x=cube['dates']\n",
    "    pv.y=scenario_data[:,idx['ins']]\n",
    "\n",
    "    bar.x=data[:,0]\n",
    "    bar.y=data[:,1]\n",
    "    \n",
    "    #Exercise proababilities\n",
    "    file=instruments[idx['ins']]+' (exercise).json'\n",
    "    pcube=Lib.LoadCube(path+'/'+file,verbose=False)\n",
    "    date_start=0\n",
    "    date_end=len(pcube['dates'])-1\n",
    "    scenario_start=0\n",
    "    scenario_end=pcube['num_scenarios']-1\n",
    "    data=[]\n",
    "    for d in range(date_start,date_end+1):\n",
    "        vec=np.array([])\n",
    "        for s in range(scenario_start,scenario_end+1):\n",
    "            val=Lib.GetValue(pcube,d,s,0)\n",
    "            vec=np.append(vec,val)\n",
    "        avg=vec.mean()\n",
    "        cumulative=avg\n",
    "        if d>0:\n",
    "            cumulative+=data[d-1][3]\n",
    "        data.append([d,d*0.25,avg,cumulative])\n",
    "    data=np.array(data)\n",
    "    cumProb.x=data[:,1]\n",
    "    cumProb.y=data[:,3]\n",
    "    prob.x=data[:,1]\n",
    "    prob.y=data[:,2]"
   ]
  },
  {
   "cell_type": "code",
   "execution_count": null,
   "id": "740fa2ea-e35a-4841-8399-a821ab3fb7dd",
   "metadata": {
    "extensions": {
     "jupyter_dashboards": {
      "activeView": "grid_default",
      "views": {
       "grid_default": {
        "col": 0,
        "height": 9,
        "hidden": false,
        "row": 1,
        "width": 8
       }
      }
     }
    },
    "tags": []
   },
   "outputs": [],
   "source": [
    "from bqplot import (OrdinalScale, LinearScale, Bars, Lines,\n",
    "                    Figure, Axis, ColorScale, ColorAxis, CATEGORY10)\n",
    "scenario_start=0\n",
    "scenario_end=cube['num_scenarios']-1\n",
    "\n",
    "x_ord = LinearScale()\n",
    "y_sc = LinearScale()\n",
    "\n",
    "data=[]\n",
    "for s in range(scenario_start,scenario_end+1):\n",
    "    scenario_data=Lib.GetScenarioData(cube,s)\n",
    "    data.append(scenario_data[:,0])\n",
    "\n",
    "lines = Lines(x=cube['dates'],\n",
    "              y=data,\n",
    "              scales={'x': x_ord, 'y': y_sc},\n",
    "              stroke_width=1)\n",
    "ax_x = Axis(scale=x_ord, tick_rotate=0, tick_style={'font-size': 10})\n",
    "ax_y = Axis(scale=y_sc, tick_format='0.2f', orientation='vertical', tick_style={'font-size': 8})\n",
    "\n",
    "Figure(marks=[lines], axes=[ax_x, ax_y], animation_duration=500)"
   ]
  },
  {
   "cell_type": "code",
   "execution_count": null,
   "id": "e2187bab-c57c-49d6-b8e3-12c4f322a591",
   "metadata": {
    "extensions": {
     "jupyter_dashboards": {
      "activeView": "grid_default",
      "views": {
       "grid_default": {
        "col": 8,
        "height": 18,
        "hidden": false,
        "row": 1,
        "width": 4
       }
      }
     }
    },
    "tags": []
   },
   "outputs": [],
   "source": [
    "table = widgets.HTML(\n",
    "    value=\"Placeholder\"\n",
    ")\n",
    "display(table)"
   ]
  },
  {
   "cell_type": "code",
   "execution_count": null,
   "id": "044aa471-f050-4d37-85db-86e5243eeb40",
   "metadata": {
    "extensions": {
     "jupyter_dashboards": {
      "activeView": "grid_default",
      "views": {
       "grid_default": {
        "col": null,
        "height": 2,
        "hidden": true,
        "row": null,
        "width": 2
       }
      }
     }
    }
   },
   "outputs": [],
   "source": [
    "def Map(val):\n",
    "    if val==True:\n",
    "        return 'b'\n",
    "    else:\n",
    "        return 'r'"
   ]
  },
  {
   "cell_type": "code",
   "execution_count": null,
   "id": "83eef4e6-fff5-4e2f-a580-c0225f88cbcf",
   "metadata": {
    "extensions": {
     "jupyter_dashboards": {
      "activeView": "grid_default",
      "views": {
       "grid_default": {
        "col": 0,
        "height": 9,
        "hidden": false,
        "row": 20,
        "width": 4
       }
      }
     }
    },
    "tags": []
   },
   "outputs": [],
   "source": [
    "c = 'rgbkymc'\n",
    "data=np.array(cashflows[idx['ins']][idx['scenario']])\n",
    "positive=data[:,1]>0\n",
    "c=list(map(Map,positive))\n",
    "\n",
    "x_cf_sc = LinearScale()\n",
    "y_cf_sc = LinearScale()\n",
    "\n",
    "pv=Lines(  x=[1,2,3],\n",
    "           y=[1,1,1],\n",
    "           scales={'x': x_cf_sc, 'y': y_cf_sc},\n",
    "           colors=['red'],\n",
    "           stroke_width=3)\n",
    "\n",
    "bar=Bars(  x=[1,2,3],\n",
    "           y=[2,2,2],\n",
    "           scales={'x': x_cf_sc, 'y': y_cf_sc},\n",
    "           stroke_width=1)\n",
    "\n",
    "ax_cf_x = Axis(scale=x_cf_sc, tick_rotate=0, tick_style={'font-size': 8})\n",
    "ax_cf_y = Axis(scale=y_cf_sc, tick_format='0.2f', orientation='vertical',tick_style={'font-size': 10})\n",
    "\n",
    "Figure(marks=[bar,pv], axes=[ax_cf_x, ax_cf_y], animation_duration=50)"
   ]
  },
  {
   "cell_type": "code",
   "execution_count": null,
   "id": "ac276e94-e9f9-421d-8e9d-b5c39e634296",
   "metadata": {
    "extensions": {
     "jupyter_dashboards": {
      "activeView": "grid_default",
      "views": {
       "grid_default": {
        "col": 0,
        "height": 9,
        "hidden": false,
        "row": 10,
        "width": 8
       }
      }
     }
    },
    "tags": []
   },
   "outputs": [],
   "source": [
    "x_pb_sc = LinearScale()\n",
    "y_pb_sc = LinearScale()\n",
    "\n",
    "cumProb=Lines(x=[1,2,3],\n",
    "           y=[1,1,1],\n",
    "           scales={'x': x_pb_sc, 'y': y_pb_sc},\n",
    "           colors=['red'],\n",
    "           stroke_width=3)\n",
    "\n",
    "prob=Bars(x=[1,2,3],\n",
    "           y=[2,2,2],\n",
    "           scales={'x': x_pb_sc, 'y': y_pb_sc},\n",
    "           stroke_width=1)\n",
    "\n",
    "ax_pb_x = Axis(scale=x_pb_sc, tick_rotate=0, tick_style={'font-size': 8})\n",
    "ax_pb_y = Axis(scale=y_pb_sc, tick_format='0.2f', orientation='vertical',tick_style={'font-size': 10})\n",
    "\n",
    "Figure(marks=[cumProb,prob], axes=[ax_pb_x, ax_pb_y], animation_duration=50)"
   ]
  },
  {
   "cell_type": "code",
   "execution_count": null,
   "id": "872beeb0-f10a-475e-9336-86abb113f700",
   "metadata": {
    "extensions": {
     "jupyter_dashboards": {
      "activeView": "grid_default",
      "views": {
       "grid_default": {
        "col": 0,
        "height": 1,
        "hidden": false,
        "row": 19,
        "width": 12
       }
      }
     }
    },
    "tags": []
   },
   "outputs": [],
   "source": [
    "scenario_slider = widgets.interact(OnScenario, scenario=(0, cube['num_scenarios']-1, 1))"
   ]
  },
  {
   "cell_type": "code",
   "execution_count": null,
   "id": "4d799ae3-1f07-4ee4-887e-6d0ec8c6d15d",
   "metadata": {
    "extensions": {
     "jupyter_dashboards": {
      "activeView": "grid_default",
      "views": {
       "grid_default": {
        "col": 0,
        "height": 1,
        "hidden": false,
        "row": 0,
        "width": 12
       }
      }
     }
    }
   },
   "outputs": [],
   "source": [
    "ins_picker = widgets.interact(OnSelect, instrument=list(instruments))"
   ]
  }
 ],
 "metadata": {
  "extensions": {
   "jupyter_dashboards": {
    "activeView": "grid_default",
    "version": 1,
    "views": {
     "grid_default": {
      "cellMargin": 2,
      "defaultCellHeight": 60,
      "maxColumns": 12,
      "name": "grid",
      "type": "grid"
     }
    }
   }
  },
  "kernelspec": {
   "display_name": "Python 3 (ipykernel)",
   "language": "python",
   "name": "python3"
  },
  "language_info": {
   "codemirror_mode": {
    "name": "ipython",
    "version": 3
   },
   "file_extension": ".py",
   "mimetype": "text/x-python",
   "name": "python",
   "nbconvert_exporter": "python",
   "pygments_lexer": "ipython3",
   "version": "3.8.10"
  }
 },
 "nbformat": 4,
 "nbformat_minor": 5
}
